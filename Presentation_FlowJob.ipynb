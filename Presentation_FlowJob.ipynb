{
 "cells": [
  {
   "cell_type": "markdown",
   "metadata": {},
   "source": [
    "# Zwei-Machinen-Flow-Shop-Problem mit Branch-and-Bound"
   ]
  },
  {
   "cell_type": "markdown",
   "metadata": {},
   "source": [
    "## Zwei-Machinen-Flow-Shop-Problem"
   ]
  },
  {
   "cell_type": "markdown",
   "metadata": {},
   "source": [
    "Beim Flow-Shop Problem ist ein Optimierungsproblem. Die Annahmen des Problems sind: \n",
    "* Man hat diverse Jobs, die nacheinander auf zwei Maschinen durchgeführt werden müssen. \n",
    "* Die Jobs beanspruchen die Maschinen für eine unterschiedliche Dauer. \n",
    "* Man kann erst mit einem Job auf Maschine 2 beginnen, wenn der Job auf Maschine 1 beendet wurde.\n",
    "\n",
    "Ziel des Problems ist die Minimierung der durchnittliche Fertigstellungszeit der Jobs, was äquivalent ist zur Minimierung der Summe der Fertigstellungszeiten. "
   ]
  },
  {
   "cell_type": "markdown",
   "metadata": {},
   "source": [
    "## Branch-and-Bound"
   ]
  },
  {
   "cell_type": "markdown",
   "metadata": {},
   "source": [
    "Im Prinzip könnte man ein kombinatorisches Problem so lösen, dass man für alle\n",
    "zulässigen Lösungen (es gibt ja nur endlich viele) die Zielfunktion bestimmt und das\n",
    "Minimum nimmt. Dies bezeichnet man als vollständige Enumeration. In der Praxis\n",
    "ist vollständige Enumeration aus Laufzeitgründen meist undurchführbar. Es ist daher\n",
    "in der Regel nötig, die Menge der zulässigen Lösungen, deren Zielfunktionswert\n",
    "man bestimmt, einzuschränken. \n",
    "\\\n",
    "Bei Branch-and-Bound wird das Optimierungsproblem im Branch Schritt in Teilprobleme zerlegt. Für diese wird im Bound Schritt eine untere Schranke bestimmt. Nun wird das Teilproblem mit der niedrigsten Schranke wieder in Teilproblem zerlegt und von diesen wieder eine untere Schranke bestimmt. \n",
    "\\\n",
    "Diese Schritte werden solange durchgeführt bis man eine Lösung gefunden hat und es kein Teilproblem mit einer unteren Schranke gibt, die unter der der Lösung liegt.\n",
    "\n"
   ]
  },
  {
   "cell_type": "markdown",
   "metadata": {},
   "source": [
    "Im konkreten Zwei-Machinen-Flow-Shop-Problem ist der Branch Schritt, dass man die Durchführung des nächsten Job auf der Maschine 1 festlegt und der Bound Schritt, dass man gegeben dieses Jobs eine untere Schranke bestimmt. Die untere Schranke wird berechnet durch die Aufsummierung der Fertigstellungszeit der Jobs, dabei wird ignoriert ob ein Job bereits auf Maschine 1 beendet wurde. Falls es keine Überschneidungen gibt, stellt die untere Schranke eine mögliche Lösung dar."
   ]
  },
  {
   "cell_type": "code",
   "execution_count": 148,
   "metadata": {},
   "outputs": [],
   "source": [
    "import flow_job\n",
    "from graphviz import Digraph\n",
    "import ipysheet\n",
    "import pandas as pd\n",
    "import numpy as np\n",
    "import time\n",
    "import matplotlib\n",
    "import matplotlib.pyplot as plt\n",
    "import matplotlib.style as style"
   ]
  },
  {
   "cell_type": "markdown",
   "metadata": {},
   "source": [
    "## Einfaches Beispiel"
   ]
  },
  {
   "cell_type": "code",
   "execution_count": 149,
   "metadata": {},
   "outputs": [
    {
     "name": "stdout",
     "output_type": "stream",
     "text": [
      "Job Liste: [[7, 6], [1, 13], [2, 8], [13, 11]]\n"
     ]
    }
   ],
   "source": [
    "number_jobs = 4\n",
    "q = list(np.random.randint(1, 15, size=number_jobs, dtype='l'))\n",
    "p = list(np.random.randint(1, 15, size=number_jobs, dtype='l'))\n",
    "job_list=[[x,y] for x,y in zip(q,p)]\n",
    "print(\"Job Liste: {}\".format(job_list))"
   ]
  },
  {
   "cell_type": "code",
   "execution_count": 150,
   "metadata": {},
   "outputs": [],
   "source": [
    "bb_tree = flow_job.FlowShop(job_list)"
   ]
  },
  {
   "cell_type": "code",
   "execution_count": 151,
   "metadata": {},
   "outputs": [],
   "source": [
    "bs_order = bb_tree.solution.order\n",
    "bs_value = bb_tree.solution.lb_value\n",
    "bs_iter = bb_tree.iterations\n",
    "bs_plan = bb_tree.solution.machine_plan"
   ]
  },
  {
   "cell_type": "markdown",
   "metadata": {},
   "source": [
    "**optimal Solution:**"
   ]
  },
  {
   "cell_type": "code",
   "execution_count": 152,
   "metadata": {
    "scrolled": false
   },
   "outputs": [
    {
     "name": "stdout",
     "output_type": "stream",
     "text": [
      "Job Reihenfolge: [3, 1, 2, 4]\n",
      "Summe der Fertigstellungszeiten: 91\n",
      "Notwendige Iterationen bis zu einer Lösung: 5\n"
     ]
    }
   ],
   "source": [
    "print(\"Job Reihenfolge: {}\".format(bs_order))\n",
    "print(\"Summe der Fertigstellungszeiten: {}\".format(bs_value))\n",
    "print(\"Notwendige Iterationen bis zu einer Lösung: {}\".format(bs_iter))"
   ]
  },
  {
   "cell_type": "markdown",
   "metadata": {},
   "source": [
    "### Visualisierung der Maschinenbelegung"
   ]
  },
  {
   "cell_type": "code",
   "execution_count": 153,
   "metadata": {},
   "outputs": [
    {
     "data": {
      "image/png": "[encoded data removed]",
      "text/plain": [
       "<Figure size 1080x576 with 1 Axes>"
      ]
     },
     "metadata": {
      "needs_background": "light"
     },
     "output_type": "display_data"
    }
   ],
   "source": [
    "x = [[int(j) for j in list(i)] for i in bs_plan]\n",
    "plt.figure(figsize=(15,8))\n",
    "ind = [1,0]\n",
    "width = 0.9\n",
    "sum_dur_0 = len(x[0])\n",
    "sum_dur_1 = len(x[1])\n",
    "\n",
    "color = plt.get_cmap('tab10')(\n",
    "        np.linspace(0.20, 0.70, number_jobs))\n",
    "\n",
    "plt1 = plt.barh(ind, [sum_dur_0, 0], width, color = color[x[0][sum_dur_0-1]-1],label='Job_{0}'.format(str(x[0][sum_dur_0-1])))\n",
    "\n",
    "for i in reversed(range(0,sum_dur_0-1)):\n",
    "    if x[0][i] != x[0][i+1]:\n",
    "        if x[0][i] == 0:\n",
    "            plt1 = plt.barh(ind, [i+1,0], width, color='white')\n",
    "        else:\n",
    "            plt1 = plt.barh(ind, [i+1,0], width, color = color[x[0][i]-1],label='Job_{0}'.format(str(x[0][i])))\n",
    "\n",
    "\n",
    "plt1 = plt.barh(ind, [0,sum_dur_1], width, color = color[x[1][sum_dur_1-1]-1])\n",
    "\n",
    "for i in reversed(range(0,sum_dur_1-1)):\n",
    "    if x[1][i] != x[1][i+1]:\n",
    "        if x[1][i] == 0:\n",
    "            plt1 = plt.barh(ind, [0,i+1], width, color='white')\n",
    "        else:\n",
    "            plt1 = plt.barh(ind, [0,i+1], width, color = color[x[1][i]-1])\n",
    "\n",
    "plt.yticks(ind, ('M1', 'M2'))\n",
    "plt.legend(framealpha=1, frameon=True)\n",
    "plt.show()"
   ]
  },
  {
   "cell_type": "markdown",
   "metadata": {},
   "source": [
    "Diese Grafik zeigt zu welchem Zeitpunkt welcher Job auf welcher Maschine durchgeführt wird."
   ]
  },
  {
   "cell_type": "markdown",
   "metadata": {},
   "source": [
    "### Visualisierung des Branch-and-Bound Verfahrens"
   ]
  },
  {
   "cell_type": "code",
   "execution_count": 154,
   "metadata": {},
   "outputs": [
    {
     "data": {
      "image/svg+xml": [
       "<?xml version=\"1.0\" encoding=\"UTF-8\" standalone=\"no\"?>\r\n",
       "<!DOCTYPE svg PUBLIC \"-//W3C//DTD SVG 1.1//EN\"\r\n",
       " \"http://www.w3.org/Graphics/SVG/1.1/DTD/svg11.dtd\">\r\n",
       "<!-- Generated by graphviz version 2.44.2~dev.20200818.1009 (20200818.1009)\r\n",
       " -->\r\n",
       "<!-- Pages: 1 -->\r\n",
       "<svg width=\"606pt\" height=\"305pt\"\r\n",
       " viewBox=\"0.00 0.00 606.01 304.74\" xmlns=\"http://www.w3.org/2000/svg\" xmlns:xlink=\"http://www.w3.org/1999/xlink\">\r\n",
       "<g id=\"graph0\" class=\"graph\" transform=\"scale(1 1) rotate(0) translate(4 300.74)\">\r\n",
       "<polygon fill=\"white\" stroke=\"transparent\" points=\"-4,4 -4,-300.74 602.01,-300.74 602.01,4 -4,4\"/>\r\n",
       "<!-- root -->\r\n",
       "<g id=\"node1\" class=\"node\">\r\n",
       "<title>root</title>\r\n",
       "<ellipse fill=\"brown\" stroke=\"black\" cx=\"299\" cy=\"-278.74\" rx=\"53.12\" ry=\"18\"/>\r\n",
       "<text text-anchor=\"start\" x=\"267\" y=\"-277.54\" font-family=\"Arial\" font-size=\"1.00\"> &#160;&#160;&#160;&#160;&#160;&#160;&#160;&#160;&#160;&#160;&#160;&#160;&#160;&#160;&#160;&#160;&#160;&#160;&#160;&#160;&#160;&#160;&#160;&#160;&#160;&#160;</text>\r\n",
       "<text text-anchor=\"start\" x=\"288\" y=\"-277.54\" font-family=\"Arial\" font-weight=\"bold\" font-size=\"9.00\">ROOT</text>\r\n",
       "<text text-anchor=\"start\" x=\"313\" y=\"-277.54\" font-family=\"Arial\" font-size=\"1.00\"> &#160;&#160;&#160;&#160;&#160;&#160;&#160;&#160;&#160;&#160;&#160;&#160;&#160;&#160;&#160;&#160;&#160;&#160;&#160;&#160;&#160;&#160;</text>\r\n",
       "</g>\r\n",
       "<!-- flow_job.Node object at 0x000002642F45CAC8 -->\r\n",
       "<g id=\"node2\" class=\"node\">\r\n",
       "<title>flow_job.Node object at 0x000002642F45CAC8</title>\r\n",
       "<ellipse fill=\"#cf4858\" stroke=\"black\" cx=\"70\" cy=\"-199.28\" rx=\"70.01\" ry=\"25.41\"/>\r\n",
       "<text text-anchor=\"start\" x=\"48\" y=\"-205.08\" font-family=\"Arial\" font-size=\"1.00\"> &#160;&#160;&#160;&#160;&#160;&#160;&#160;&#160;&#160;&#160;&#160;&#160;&#160;&#160;&#160;&#160;&#160;&#160;&#160;&#160;&#160;&#160;&#160;&#160;&#160;&#160;</text>\r\n",
       "<text text-anchor=\"start\" x=\"69\" y=\"-205.08\" font-family=\"Arial\" font-size=\"9.00\">1</text>\r\n",
       "<text text-anchor=\"start\" x=\"75\" y=\"-205.08\" font-family=\"Arial\" font-size=\"1.00\"> &#160;&#160;&#160;&#160;&#160;&#160;&#160;&#160;&#160;&#160;&#160;&#160;&#160;&#160;&#160;&#160;&#160;&#160;&#160;&#160;&#160;&#160;</text>\r\n",
       "<text text-anchor=\"start\" x=\"31\" y=\"-191.48\" font-family=\"Arial\" font-size=\"1.00\"> &#160;&#160;&#160;&#160;&#160;&#160;&#160;&#160;&#160;&#160;&#160;&#160;&#160;&#160;&#160;&#160;&#160;&#160;&#160;&#160;&#160;&#160;&#160;&#160;&#160;&#160;</text>\r\n",
       "<text text-anchor=\"start\" x=\"52\" y=\"-191.48\" font-family=\"Arial\" font-weight=\"bold\" font-size=\"11.00\">LB: 107</text>\r\n",
       "<text text-anchor=\"start\" x=\"92\" y=\"-191.48\" font-family=\"Arial\" font-size=\"1.00\"> &#160;&#160;&#160;&#160;&#160;&#160;&#160;&#160;&#160;&#160;&#160;&#160;&#160;&#160;&#160;&#160;&#160;&#160;&#160;&#160;&#160;&#160;</text>\r\n",
       "</g>\r\n",
       "<!-- root&#45;&gt;flow_job.Node object at 0x000002642F45CAC8 -->\r\n",
       "<g id=\"edge1\" class=\"edge\">\r\n",
       "<title>root&#45;&gt;flow_job.Node object at 0x000002642F45CAC8</title>\r\n",
       "<path fill=\"none\" stroke=\"black\" stroke-width=\"3\" d=\"M262.72,-265.46C227.03,-253.39 171.93,-234.75 129.77,-220.49\"/>\r\n",
       "<polygon fill=\"black\" stroke=\"black\" stroke-width=\"3\" points=\"130.77,-217.14 120.17,-217.25 128.52,-223.77 130.77,-217.14\"/>\r\n",
       "</g>\r\n",
       "<!-- flow_job.Node object at 0x000002642F4A3188 -->\r\n",
       "<g id=\"node3\" class=\"node\">\r\n",
       "<title>flow_job.Node object at 0x000002642F4A3188</title>\r\n",
       "<ellipse fill=\"#15a79d\" stroke=\"black\" cx=\"224\" cy=\"-199.28\" rx=\"65.52\" ry=\"25.41\"/>\r\n",
       "<text text-anchor=\"start\" x=\"202\" y=\"-205.08\" font-family=\"Arial\" font-size=\"1.00\"> &#160;&#160;&#160;&#160;&#160;&#160;&#160;&#160;&#160;&#160;&#160;&#160;&#160;&#160;&#160;&#160;&#160;&#160;&#160;&#160;&#160;&#160;&#160;&#160;&#160;&#160;</text>\r\n",
       "<text text-anchor=\"start\" x=\"223\" y=\"-205.08\" font-family=\"Arial\" font-size=\"9.00\">2</text>\r\n",
       "<text text-anchor=\"start\" x=\"229\" y=\"-205.08\" font-family=\"Arial\" font-size=\"1.00\"> &#160;&#160;&#160;&#160;&#160;&#160;&#160;&#160;&#160;&#160;&#160;&#160;&#160;&#160;&#160;&#160;&#160;&#160;&#160;&#160;&#160;&#160;</text>\r\n",
       "<text text-anchor=\"start\" x=\"188\" y=\"-191.48\" font-family=\"Arial\" font-size=\"1.00\"> &#160;&#160;&#160;&#160;&#160;&#160;&#160;&#160;&#160;&#160;&#160;&#160;&#160;&#160;&#160;&#160;&#160;&#160;&#160;&#160;&#160;&#160;&#160;&#160;&#160;&#160;</text>\r\n",
       "<text text-anchor=\"start\" x=\"209\" y=\"-191.48\" font-family=\"Arial\" font-weight=\"bold\" font-size=\"11.00\">LB: 97</text>\r\n",
       "<text text-anchor=\"start\" x=\"243\" y=\"-191.48\" font-family=\"Arial\" font-size=\"1.00\"> &#160;&#160;&#160;&#160;&#160;&#160;&#160;&#160;&#160;&#160;&#160;&#160;&#160;&#160;&#160;&#160;&#160;&#160;&#160;&#160;&#160;&#160;</text>\r\n",
       "</g>\r\n",
       "<!-- root&#45;&gt;flow_job.Node object at 0x000002642F4A3188 -->\r\n",
       "<g id=\"edge2\" class=\"edge\">\r\n",
       "<title>root&#45;&gt;flow_job.Node object at 0x000002642F4A3188</title>\r\n",
       "<path fill=\"none\" stroke=\"black\" stroke-width=\"3\" d=\"M283.1,-261.31C274.52,-252.45 263.65,-241.22 253.58,-230.82\"/>\r\n",
       "<polygon fill=\"black\" stroke=\"black\" stroke-width=\"3\" points=\"255.9,-228.19 246.43,-223.44 250.87,-233.06 255.9,-228.19\"/>\r\n",
       "</g>\r\n",
       "<!-- flow_job.Node object at 0x000002642F4A3508 -->\r\n",
       "<g id=\"node4\" class=\"node\">\r\n",
       "<title>flow_job.Node object at 0x000002642F4A3508</title>\r\n",
       "<ellipse fill=\"#cf4858\" stroke=\"black\" cx=\"374\" cy=\"-199.28\" rx=\"65.52\" ry=\"25.41\"/>\r\n",
       "<text text-anchor=\"start\" x=\"352\" y=\"-205.08\" font-family=\"Arial\" font-size=\"1.00\"> &#160;&#160;&#160;&#160;&#160;&#160;&#160;&#160;&#160;&#160;&#160;&#160;&#160;&#160;&#160;&#160;&#160;&#160;&#160;&#160;&#160;&#160;&#160;&#160;&#160;&#160;</text>\r\n",
       "<text text-anchor=\"start\" x=\"373\" y=\"-205.08\" font-family=\"Arial\" font-size=\"9.00\">3</text>\r\n",
       "<text text-anchor=\"start\" x=\"379\" y=\"-205.08\" font-family=\"Arial\" font-size=\"1.00\"> &#160;&#160;&#160;&#160;&#160;&#160;&#160;&#160;&#160;&#160;&#160;&#160;&#160;&#160;&#160;&#160;&#160;&#160;&#160;&#160;&#160;&#160;</text>\r\n",
       "<text text-anchor=\"start\" x=\"338\" y=\"-191.48\" font-family=\"Arial\" font-size=\"1.00\"> &#160;&#160;&#160;&#160;&#160;&#160;&#160;&#160;&#160;&#160;&#160;&#160;&#160;&#160;&#160;&#160;&#160;&#160;&#160;&#160;&#160;&#160;&#160;&#160;&#160;&#160;</text>\r\n",
       "<text text-anchor=\"start\" x=\"359\" y=\"-191.48\" font-family=\"Arial\" font-weight=\"bold\" font-size=\"11.00\">LB: 89</text>\r\n",
       "<text text-anchor=\"start\" x=\"393\" y=\"-191.48\" font-family=\"Arial\" font-size=\"1.00\"> &#160;&#160;&#160;&#160;&#160;&#160;&#160;&#160;&#160;&#160;&#160;&#160;&#160;&#160;&#160;&#160;&#160;&#160;&#160;&#160;&#160;&#160;</text>\r\n",
       "</g>\r\n",
       "<!-- root&#45;&gt;flow_job.Node object at 0x000002642F4A3508 -->\r\n",
       "<g id=\"edge3\" class=\"edge\">\r\n",
       "<title>root&#45;&gt;flow_job.Node object at 0x000002642F4A3508</title>\r\n",
       "<path fill=\"none\" stroke=\"black\" stroke-width=\"3\" d=\"M314.91,-261.31C323.49,-252.45 334.36,-241.22 344.43,-230.82\"/>\r\n",
       "<polygon fill=\"black\" stroke=\"black\" stroke-width=\"3\" points=\"347.14,-233.06 351.58,-223.44 342.11,-228.19 347.14,-233.06\"/>\r\n",
       "</g>\r\n",
       "<!-- flow_job.Node object at 0x000002642F4A3E48 -->\r\n",
       "<g id=\"node5\" class=\"node\">\r\n",
       "<title>flow_job.Node object at 0x000002642F4A3E48</title>\r\n",
       "<ellipse fill=\"#15a79d\" stroke=\"black\" cx=\"528\" cy=\"-199.28\" rx=\"70.01\" ry=\"25.41\"/>\r\n",
       "<text text-anchor=\"start\" x=\"506\" y=\"-205.08\" font-family=\"Arial\" font-size=\"1.00\"> &#160;&#160;&#160;&#160;&#160;&#160;&#160;&#160;&#160;&#160;&#160;&#160;&#160;&#160;&#160;&#160;&#160;&#160;&#160;&#160;&#160;&#160;&#160;&#160;&#160;&#160;</text>\r\n",
       "<text text-anchor=\"start\" x=\"527\" y=\"-205.08\" font-family=\"Arial\" font-size=\"9.00\">4</text>\r\n",
       "<text text-anchor=\"start\" x=\"533\" y=\"-205.08\" font-family=\"Arial\" font-size=\"1.00\"> &#160;&#160;&#160;&#160;&#160;&#160;&#160;&#160;&#160;&#160;&#160;&#160;&#160;&#160;&#160;&#160;&#160;&#160;&#160;&#160;&#160;&#160;</text>\r\n",
       "<text text-anchor=\"start\" x=\"489\" y=\"-191.48\" font-family=\"Arial\" font-size=\"1.00\"> &#160;&#160;&#160;&#160;&#160;&#160;&#160;&#160;&#160;&#160;&#160;&#160;&#160;&#160;&#160;&#160;&#160;&#160;&#160;&#160;&#160;&#160;&#160;&#160;&#160;&#160;</text>\r\n",
       "<text text-anchor=\"start\" x=\"510\" y=\"-191.48\" font-family=\"Arial\" font-weight=\"bold\" font-size=\"11.00\">LB: 139</text>\r\n",
       "<text text-anchor=\"start\" x=\"550\" y=\"-191.48\" font-family=\"Arial\" font-size=\"1.00\"> &#160;&#160;&#160;&#160;&#160;&#160;&#160;&#160;&#160;&#160;&#160;&#160;&#160;&#160;&#160;&#160;&#160;&#160;&#160;&#160;&#160;&#160;</text>\r\n",
       "</g>\r\n",
       "<!-- root&#45;&gt;flow_job.Node object at 0x000002642F4A3E48 -->\r\n",
       "<g id=\"edge4\" class=\"edge\">\r\n",
       "<title>root&#45;&gt;flow_job.Node object at 0x000002642F4A3E48</title>\r\n",
       "<path fill=\"none\" stroke=\"black\" stroke-width=\"3\" d=\"M335.29,-265.46C370.98,-253.39 426.08,-234.75 468.24,-220.49\"/>\r\n",
       "<polygon fill=\"black\" stroke=\"black\" stroke-width=\"3\" points=\"469.48,-223.77 477.84,-217.25 467.24,-217.14 469.48,-223.77\"/>\r\n",
       "</g>\r\n",
       "<!-- flow_job.Node object at 0x000002642F4A34C8 -->\r\n",
       "<g id=\"node6\" class=\"node\">\r\n",
       "<title>flow_job.Node object at 0x000002642F4A34C8</title>\r\n",
       "<ellipse fill=\"#cf4858\" stroke=\"black\" cx=\"224\" cy=\"-112.37\" rx=\"65.52\" ry=\"25.41\"/>\r\n",
       "<text text-anchor=\"start\" x=\"202\" y=\"-118.17\" font-family=\"Arial\" font-size=\"1.00\"> &#160;&#160;&#160;&#160;&#160;&#160;&#160;&#160;&#160;&#160;&#160;&#160;&#160;&#160;&#160;&#160;&#160;&#160;&#160;&#160;&#160;&#160;&#160;&#160;&#160;&#160;</text>\r\n",
       "<text text-anchor=\"start\" x=\"223\" y=\"-118.17\" font-family=\"Arial\" font-size=\"9.00\">1</text>\r\n",
       "<text text-anchor=\"start\" x=\"229\" y=\"-118.17\" font-family=\"Arial\" font-size=\"1.00\"> &#160;&#160;&#160;&#160;&#160;&#160;&#160;&#160;&#160;&#160;&#160;&#160;&#160;&#160;&#160;&#160;&#160;&#160;&#160;&#160;&#160;&#160;</text>\r\n",
       "<text text-anchor=\"start\" x=\"188\" y=\"-104.57\" font-family=\"Arial\" font-size=\"1.00\"> &#160;&#160;&#160;&#160;&#160;&#160;&#160;&#160;&#160;&#160;&#160;&#160;&#160;&#160;&#160;&#160;&#160;&#160;&#160;&#160;&#160;&#160;&#160;&#160;&#160;&#160;</text>\r\n",
       "<text text-anchor=\"start\" x=\"209\" y=\"-104.57\" font-family=\"Arial\" font-weight=\"bold\" font-size=\"11.00\">LB: 89</text>\r\n",
       "<text text-anchor=\"start\" x=\"243\" y=\"-104.57\" font-family=\"Arial\" font-size=\"1.00\"> &#160;&#160;&#160;&#160;&#160;&#160;&#160;&#160;&#160;&#160;&#160;&#160;&#160;&#160;&#160;&#160;&#160;&#160;&#160;&#160;&#160;&#160;</text>\r\n",
       "</g>\r\n",
       "<!-- flow_job.Node object at 0x000002642F4A3508&#45;&gt;flow_job.Node object at 0x000002642F4A34C8 -->\r\n",
       "<g id=\"edge5\" class=\"edge\">\r\n",
       "<title>flow_job.Node object at 0x000002642F4A3508&#45;&gt;flow_job.Node object at 0x000002642F4A34C8</title>\r\n",
       "<path fill=\"none\" stroke=\"black\" stroke-width=\"3\" d=\"M338.07,-177.94C317.35,-166.21 291.11,-151.36 269.03,-138.85\"/>\r\n",
       "<polygon fill=\"black\" stroke=\"black\" stroke-width=\"3\" points=\"270.59,-135.71 260.16,-133.83 267.14,-141.81 270.59,-135.71\"/>\r\n",
       "</g>\r\n",
       "<!-- flow_job.Node object at 0x000002642F4A3F48 -->\r\n",
       "<g id=\"node7\" class=\"node\">\r\n",
       "<title>flow_job.Node object at 0x000002642F4A3F48</title>\r\n",
       "<ellipse fill=\"#15a79d\" stroke=\"black\" cx=\"374\" cy=\"-112.37\" rx=\"65.52\" ry=\"25.41\"/>\r\n",
       "<text text-anchor=\"start\" x=\"352\" y=\"-118.17\" font-family=\"Arial\" font-size=\"1.00\"> &#160;&#160;&#160;&#160;&#160;&#160;&#160;&#160;&#160;&#160;&#160;&#160;&#160;&#160;&#160;&#160;&#160;&#160;&#160;&#160;&#160;&#160;&#160;&#160;&#160;&#160;</text>\r\n",
       "<text text-anchor=\"start\" x=\"373\" y=\"-118.17\" font-family=\"Arial\" font-size=\"9.00\">2</text>\r\n",
       "<text text-anchor=\"start\" x=\"379\" y=\"-118.17\" font-family=\"Arial\" font-size=\"1.00\"> &#160;&#160;&#160;&#160;&#160;&#160;&#160;&#160;&#160;&#160;&#160;&#160;&#160;&#160;&#160;&#160;&#160;&#160;&#160;&#160;&#160;&#160;</text>\r\n",
       "<text text-anchor=\"start\" x=\"338\" y=\"-104.57\" font-family=\"Arial\" font-size=\"1.00\"> &#160;&#160;&#160;&#160;&#160;&#160;&#160;&#160;&#160;&#160;&#160;&#160;&#160;&#160;&#160;&#160;&#160;&#160;&#160;&#160;&#160;&#160;&#160;&#160;&#160;&#160;</text>\r\n",
       "<text text-anchor=\"start\" x=\"359\" y=\"-104.57\" font-family=\"Arial\" font-weight=\"bold\" font-size=\"11.00\">LB: 98</text>\r\n",
       "<text text-anchor=\"start\" x=\"393\" y=\"-104.57\" font-family=\"Arial\" font-size=\"1.00\"> &#160;&#160;&#160;&#160;&#160;&#160;&#160;&#160;&#160;&#160;&#160;&#160;&#160;&#160;&#160;&#160;&#160;&#160;&#160;&#160;&#160;&#160;</text>\r\n",
       "</g>\r\n",
       "<!-- flow_job.Node object at 0x000002642F4A3508&#45;&gt;flow_job.Node object at 0x000002642F4A3F48 -->\r\n",
       "<g id=\"edge6\" class=\"edge\">\r\n",
       "<title>flow_job.Node object at 0x000002642F4A3508&#45;&gt;flow_job.Node object at 0x000002642F4A3F48</title>\r\n",
       "<path fill=\"none\" stroke=\"black\" stroke-width=\"3\" d=\"M374,-173.72C374,-165.71 374,-156.66 374,-148.05\"/>\r\n",
       "<polygon fill=\"black\" stroke=\"black\" stroke-width=\"3\" points=\"377.5,-147.87 374,-137.87 370.5,-147.87 377.5,-147.87\"/>\r\n",
       "</g>\r\n",
       "<!-- flow_job.Node object at 0x000002642F4A3B48 -->\r\n",
       "<g id=\"node8\" class=\"node\">\r\n",
       "<title>flow_job.Node object at 0x000002642F4A3B48</title>\r\n",
       "<ellipse fill=\"#15a79d\" stroke=\"black\" cx=\"528\" cy=\"-112.37\" rx=\"70.01\" ry=\"25.41\"/>\r\n",
       "<text text-anchor=\"start\" x=\"506\" y=\"-118.17\" font-family=\"Arial\" font-size=\"1.00\"> &#160;&#160;&#160;&#160;&#160;&#160;&#160;&#160;&#160;&#160;&#160;&#160;&#160;&#160;&#160;&#160;&#160;&#160;&#160;&#160;&#160;&#160;&#160;&#160;&#160;&#160;</text>\r\n",
       "<text text-anchor=\"start\" x=\"527\" y=\"-118.17\" font-family=\"Arial\" font-size=\"9.00\">4</text>\r\n",
       "<text text-anchor=\"start\" x=\"533\" y=\"-118.17\" font-family=\"Arial\" font-size=\"1.00\"> &#160;&#160;&#160;&#160;&#160;&#160;&#160;&#160;&#160;&#160;&#160;&#160;&#160;&#160;&#160;&#160;&#160;&#160;&#160;&#160;&#160;&#160;</text>\r\n",
       "<text text-anchor=\"start\" x=\"489\" y=\"-104.57\" font-family=\"Arial\" font-size=\"1.00\"> &#160;&#160;&#160;&#160;&#160;&#160;&#160;&#160;&#160;&#160;&#160;&#160;&#160;&#160;&#160;&#160;&#160;&#160;&#160;&#160;&#160;&#160;&#160;&#160;&#160;&#160;</text>\r\n",
       "<text text-anchor=\"start\" x=\"510\" y=\"-104.57\" font-family=\"Arial\" font-weight=\"bold\" font-size=\"11.00\">LB: 109</text>\r\n",
       "<text text-anchor=\"start\" x=\"550\" y=\"-104.57\" font-family=\"Arial\" font-size=\"1.00\"> &#160;&#160;&#160;&#160;&#160;&#160;&#160;&#160;&#160;&#160;&#160;&#160;&#160;&#160;&#160;&#160;&#160;&#160;&#160;&#160;&#160;&#160;</text>\r\n",
       "</g>\r\n",
       "<!-- flow_job.Node object at 0x000002642F4A3508&#45;&gt;flow_job.Node object at 0x000002642F4A3B48 -->\r\n",
       "<g id=\"edge7\" class=\"edge\">\r\n",
       "<title>flow_job.Node object at 0x000002642F4A3508&#45;&gt;flow_job.Node object at 0x000002642F4A3B48</title>\r\n",
       "<path fill=\"none\" stroke=\"black\" stroke-width=\"3\" d=\"M410.89,-177.94C432.18,-166.2 459.14,-151.34 481.83,-138.83\"/>\r\n",
       "<polygon fill=\"black\" stroke=\"black\" stroke-width=\"3\" points=\"483.55,-141.88 490.62,-133.98 480.17,-135.75 483.55,-141.88\"/>\r\n",
       "</g>\r\n",
       "<!-- flow_job.Node object at 0x000002642F4A3248 -->\r\n",
       "<g id=\"node9\" class=\"node\">\r\n",
       "<title>flow_job.Node object at 0x000002642F4A3248</title>\r\n",
       "<ellipse fill=\"green\" stroke=\"black\" cx=\"147\" cy=\"-25.46\" rx=\"65.52\" ry=\"25.41\"/>\r\n",
       "<text text-anchor=\"start\" x=\"125\" y=\"-31.26\" font-family=\"Arial\" font-size=\"1.00\"> &#160;&#160;&#160;&#160;&#160;&#160;&#160;&#160;&#160;&#160;&#160;&#160;&#160;&#160;&#160;&#160;&#160;&#160;&#160;&#160;&#160;&#160;&#160;&#160;&#160;&#160;</text>\r\n",
       "<text text-anchor=\"start\" x=\"146\" y=\"-31.26\" font-family=\"Arial\" font-size=\"9.00\">2</text>\r\n",
       "<text text-anchor=\"start\" x=\"152\" y=\"-31.26\" font-family=\"Arial\" font-size=\"1.00\"> &#160;&#160;&#160;&#160;&#160;&#160;&#160;&#160;&#160;&#160;&#160;&#160;&#160;&#160;&#160;&#160;&#160;&#160;&#160;&#160;&#160;&#160;</text>\r\n",
       "<text text-anchor=\"start\" x=\"111\" y=\"-17.66\" font-family=\"Arial\" font-size=\"1.00\"> &#160;&#160;&#160;&#160;&#160;&#160;&#160;&#160;&#160;&#160;&#160;&#160;&#160;&#160;&#160;&#160;&#160;&#160;&#160;&#160;&#160;&#160;&#160;&#160;&#160;&#160;</text>\r\n",
       "<text text-anchor=\"start\" x=\"132\" y=\"-17.66\" font-family=\"Arial\" font-weight=\"bold\" font-size=\"11.00\">LB: 91</text>\r\n",
       "<text text-anchor=\"start\" x=\"166\" y=\"-17.66\" font-family=\"Arial\" font-size=\"1.00\"> &#160;&#160;&#160;&#160;&#160;&#160;&#160;&#160;&#160;&#160;&#160;&#160;&#160;&#160;&#160;&#160;&#160;&#160;&#160;&#160;&#160;&#160;</text>\r\n",
       "</g>\r\n",
       "<!-- flow_job.Node object at 0x000002642F4A34C8&#45;&gt;flow_job.Node object at 0x000002642F4A3248 -->\r\n",
       "<g id=\"edge8\" class=\"edge\">\r\n",
       "<title>flow_job.Node object at 0x000002642F4A34C8&#45;&gt;flow_job.Node object at 0x000002642F4A3248</title>\r\n",
       "<path fill=\"none\" stroke=\"black\" stroke-width=\"3\" d=\"M202.96,-88.17C194.31,-78.62 184.15,-67.42 174.89,-57.21\"/>\r\n",
       "<polygon fill=\"black\" stroke=\"black\" stroke-width=\"3\" points=\"177.33,-54.69 168.02,-49.63 172.14,-59.39 177.33,-54.69\"/>\r\n",
       "</g>\r\n",
       "<!-- flow_job.Node object at 0x000002642F4A3108 -->\r\n",
       "<g id=\"node10\" class=\"node\">\r\n",
       "<title>flow_job.Node object at 0x000002642F4A3108</title>\r\n",
       "<ellipse fill=\"#15a79d\" stroke=\"black\" cx=\"301\" cy=\"-25.46\" rx=\"70.01\" ry=\"25.41\"/>\r\n",
       "<text text-anchor=\"start\" x=\"279\" y=\"-31.26\" font-family=\"Arial\" font-size=\"1.00\"> &#160;&#160;&#160;&#160;&#160;&#160;&#160;&#160;&#160;&#160;&#160;&#160;&#160;&#160;&#160;&#160;&#160;&#160;&#160;&#160;&#160;&#160;&#160;&#160;&#160;&#160;</text>\r\n",
       "<text text-anchor=\"start\" x=\"300\" y=\"-31.26\" font-family=\"Arial\" font-size=\"9.00\">4</text>\r\n",
       "<text text-anchor=\"start\" x=\"306\" y=\"-31.26\" font-family=\"Arial\" font-size=\"1.00\"> &#160;&#160;&#160;&#160;&#160;&#160;&#160;&#160;&#160;&#160;&#160;&#160;&#160;&#160;&#160;&#160;&#160;&#160;&#160;&#160;&#160;&#160;</text>\r\n",
       "<text text-anchor=\"start\" x=\"262\" y=\"-17.66\" font-family=\"Arial\" font-size=\"1.00\"> &#160;&#160;&#160;&#160;&#160;&#160;&#160;&#160;&#160;&#160;&#160;&#160;&#160;&#160;&#160;&#160;&#160;&#160;&#160;&#160;&#160;&#160;&#160;&#160;&#160;&#160;</text>\r\n",
       "<text text-anchor=\"start\" x=\"283\" y=\"-17.66\" font-family=\"Arial\" font-weight=\"bold\" font-size=\"11.00\">LB: 101</text>\r\n",
       "<text text-anchor=\"start\" x=\"323\" y=\"-17.66\" font-family=\"Arial\" font-size=\"1.00\"> &#160;&#160;&#160;&#160;&#160;&#160;&#160;&#160;&#160;&#160;&#160;&#160;&#160;&#160;&#160;&#160;&#160;&#160;&#160;&#160;&#160;&#160;</text>\r\n",
       "</g>\r\n",
       "<!-- flow_job.Node object at 0x000002642F4A34C8&#45;&gt;flow_job.Node object at 0x000002642F4A3108 -->\r\n",
       "<g id=\"edge9\" class=\"edge\">\r\n",
       "<title>flow_job.Node object at 0x000002642F4A34C8&#45;&gt;flow_job.Node object at 0x000002642F4A3108</title>\r\n",
       "<path fill=\"none\" stroke=\"black\" stroke-width=\"3\" d=\"M245.04,-88.17C253.63,-78.7 263.69,-67.61 272.89,-57.46\"/>\r\n",
       "<polygon fill=\"black\" stroke=\"black\" stroke-width=\"3\" points=\"275.6,-59.68 279.72,-49.93 270.41,-54.98 275.6,-59.68\"/>\r\n",
       "</g>\r\n",
       "</g>\r\n",
       "</svg>\r\n"
      ],
      "text/plain": [
       "<graphviz.dot.Digraph at 0x2642f52c688>"
      ]
     },
     "execution_count": 154,
     "metadata": {},
     "output_type": "execute_result"
    }
   ],
   "source": [
    "\n",
    "cvals  = [0, 1]\n",
    "colors = ['#CF4858', '#15A79D']\n",
    "\n",
    "tuples = list(zip(cvals, colors))\n",
    "cmap = matplotlib.colors.LinearSegmentedColormap.from_list(\"\", tuples)\n",
    "\n",
    "    \n",
    "g = Digraph()\n",
    "g.attr(size='10')\n",
    "g.attr('node', penwidth='1', fontsize='1', fontname='Arial')\n",
    "g.attr('node', pencolor='green')\n",
    "g.attr('edge', penwidth='3')\n",
    "g.node('root', \n",
    "           '''<<TABLE CELLBORDER=\"0\" BORDER=\"0\" CELLPADDING=\"0\">\n",
    "                   <TR>\n",
    "                       <TD>\n",
    "                           <FONT POINT-SIZE=\"9\"><B>ROOT</B></FONT>\n",
    "                       </TD>\n",
    "                   </TR>\n",
    "                </TABLE>>''',\n",
    "           style='filled',\n",
    "           pencolor='#80628B',\n",
    "           fillcolor='brown')\n",
    "for node in bb_tree.nodes:\n",
    "    if ((node.valid) & (node.lb_value==bs_value)):\n",
    "        fcolor=\"green\"\n",
    "    elif node.valid:\n",
    "        fcolor='#15A79D'\n",
    "    else:\n",
    "        fcolor='#CF4858'\n",
    "    g.node(str(node), \n",
    "           '''<<TABLE CELLBORDER=\"0\" BORDER=\"0\" CELLPADDING=\"0\">\n",
    "                   <TR>\n",
    "                       <TD>\n",
    "                           <FONT POINT-SIZE=\"9\">{0}</FONT>\n",
    "                       </TD>\n",
    "                   </TR>\n",
    "                   <TR>\n",
    "                       <TD>\n",
    "                           <FONT POINT-SIZE=\"11\"><B>LB: {1:.{prec}f}</B></FONT>\n",
    "                       </TD>\n",
    "                   </TR>\n",
    "                </TABLE>>'''.format(node.nextjob, node.lb_value, prec=0),\n",
    "           style='filled',\n",
    "           pencolor='#80628B',\n",
    "           fillcolor=fcolor)\n",
    "\n",
    "########################################################################################################################\n",
    "\n",
    "for node in bb_tree.nodes:\n",
    "    g.edge(str(node.parent),str(node))\n",
    "\n",
    "g\n"
   ]
  },
  {
   "cell_type": "markdown",
   "metadata": {},
   "source": [
    "Jede Kugel stellt einen Branch Schritt dar. Falls die untere Schranke des Branch Schrittes eine mögliche Lösung ist, ist diese Türkis gefärbt, sonst rot. Die grün eingefärbte Kugel stellt die optimale Lösung dar."
   ]
  },
  {
   "cell_type": "markdown",
   "metadata": {},
   "source": [
    "## Dauer der Berechnung bei zunehmender Anzahl der Jobs"
   ]
  },
  {
   "cell_type": "code",
   "execution_count": 155,
   "metadata": {},
   "outputs": [
    {
     "name": "stdout",
     "output_type": "stream",
     "text": [
      "1\n",
      "2\n",
      "3\n",
      "4\n",
      "5\n",
      "6\n",
      "7\n",
      "8\n",
      "9\n"
     ]
    }
   ],
   "source": [
    "times = []\n",
    "for i in range(1,10):\n",
    "    onetime=[]\n",
    "    for j in range(10):\n",
    "        q = list(np.random.randint(1, 100, size=i, dtype='l'))\n",
    "        p = list(np.random.randint(1, 100, size=i, dtype='l'))\n",
    "        job_list=[[x,y] for x,y in zip(q,p)]\n",
    "        ts = time.time()\n",
    "        flow_job.FlowShop(job_list)\n",
    "        te = time.time()\n",
    "        onetime.append((te - ts) * 1000)\n",
    "    times.append(onetime)\n",
    "    print(i)\n"
   ]
  },
  {
   "cell_type": "code",
   "execution_count": 156,
   "metadata": {},
   "outputs": [
    {
     "data": {
      "image/png": "[encoded data removed]",
      "text/plain": [
       "<Figure size 1080x720 with 1 Axes>"
      ]
     },
     "metadata": {
      "needs_background": "light"
     },
     "output_type": "display_data"
    }
   ],
   "source": [
    "plt.figure(figsize=(15,10))\n",
    "plt.boxplot(times)\n",
    "plt.ylabel('Dauer in ms')\n",
    "plt.xlabel('Anazhl der Jobs')\n",
    "\n",
    "plt.show()"
   ]
  },
  {
   "cell_type": "markdown",
   "metadata": {},
   "source": [
    "An der Grafik erkennt man sehr schön, dass mit der Anzahl der Jobs, die notwendige Zeit um diese zu lösen exponentiell steigt."
   ]
  }
 ],
 "metadata": {
  "kernelspec": {
   "display_name": "Python 3",
   "language": "python",
   "name": "python3"
  },
  "language_info": {
   "codemirror_mode": {
    "name": "ipython",
    "version": 3
   },
   "file_extension": ".py",
   "mimetype": "text/x-python",
   "name": "python",
   "nbconvert_exporter": "python",
   "pygments_lexer": "ipython3",
   "version": "3.7.9"
  },
  "varInspector": {
   "cols": {
    "lenName": 16,
    "lenType": 16,
    "lenVar": 40
   },
   "kernels_config": {
    "python": {
     "delete_cmd_postfix": "",
     "delete_cmd_prefix": "del ",
     "library": "var_list.py",
     "varRefreshCmd": "print(var_dic_list())"
    },
    "r": {
     "delete_cmd_postfix": ") ",
     "delete_cmd_prefix": "rm(",
     "library": "var_list.r",
     "varRefreshCmd": "cat(var_dic_list()) "
    }
   },
   "position": {
    "height": "144.545px",
    "left": "1375.45px",
    "right": "20px",
    "top": "142px",
    "width": "350px"
   },
   "types_to_exclude": [
    "module",
    "function",
    "builtin_function_or_method",
    "instance",
    "_Feature"
   ],
   "window_display": false
  }
 },
 "nbformat": 4,
 "nbformat_minor": 2
}
